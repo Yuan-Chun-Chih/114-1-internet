{
  "nbformat": 4,
  "nbformat_minor": 0,
  "metadata": {
    "colab": {
      "provenance": [],
      "authorship_tag": "ABX9TyMvf+KgDNeotVcHQVVicHWt",
      "include_colab_link": true
    },
    "kernelspec": {
      "name": "python3",
      "display_name": "Python 3"
    },
    "language_info": {
      "name": "python"
    }
  },
  "cells": [
    {
      "cell_type": "markdown",
      "metadata": {
        "id": "view-in-github",
        "colab_type": "text"
      },
      "source": [
        "<a href=\"https://colab.research.google.com/github/Yuan-Chun-Chih/114-1-internet/blob/main/HW_1_V2_%E6%97%A5%E5%B8%B8%E6%94%AF%E5%87%BA%E9%80%9F%E7%AE%97%E8%88%87%E5%88%86%E6%94%A42.ipynb\" target=\"_parent\"><img src=\"https://colab.research.google.com/assets/colab-badge.svg\" alt=\"Open In Colab\"/></a>"
      ]
    },
    {
      "cell_type": "code",
      "source": [
        "#這是一個在 Google Colab 上運行的 Python 程式，用於管理與分析日常支出。\n",
        "#程式會自動從指定的 Google 試算表 (Google Sheets) 中讀取「消費紀錄」分頁，計算總支出、分類小計、AA 平均分攤、付款人淨額以及清算建議，並將結果寫回到 Summary 分頁。同時，它還會針對「本週」的花費模式，給出簡單的理財建議。\n",
        "#使用gradio進行分析"
      ],
      "metadata": {
        "id": "WSHcZ69sz_ZZ"
      },
      "execution_count": null,
      "outputs": []
    },
    {
      "cell_type": "code",
      "execution_count": 7,
      "metadata": {
        "id": "Jhsqycvzyzr2"
      },
      "outputs": [],
      "source": [
        "from google.colab import auth\n",
        "auth.authenticate_user()\n"
      ]
    },
    {
      "cell_type": "code",
      "source": [
        "!pip -q install gradio"
      ],
      "metadata": {
        "id": "9ScTVRFHy6jC"
      },
      "execution_count": 8,
      "outputs": []
    },
    {
      "cell_type": "code",
      "source": [
        "import gspread\n",
        "from google.auth import default\n",
        "import pandas as pd\n",
        "from datetime import datetime, timedelta\n",
        "import pytz\n",
        "import gradio as gr\n",
        "\n",
        "# ====== 你的核心邏輯（維持最小改動） ======\n",
        "def _open_sheet(sheet_url):\n",
        "    creds, _ = default()\n",
        "    gc = gspread.authorize(creds)\n",
        "    sh = gc.open_by_url(sheet_url)\n",
        "    return sh\n",
        "\n",
        "def _read_table(sh, data_sheet_name):\n",
        "    try:\n",
        "        ws_data = sh.worksheet(data_sheet_name)\n",
        "    except gspread.exceptions.WorksheetNotFound:\n",
        "        ws_data = sh.get_worksheet(0)\n",
        "    rows = ws_data.get_all_values()\n",
        "    if not rows:\n",
        "        raise ValueError(\"資料表是空的。\")\n",
        "    headers = [c.strip().lower() for c in rows[0]]\n",
        "    df = pd.DataFrame(rows[1:], columns=headers)\n",
        "    expected = [\"date\", \"category\", \"item\", \"amount\", \"payer\"]\n",
        "    missing = [c for c in expected if c not in df.columns]\n",
        "    if missing:\n",
        "        raise ValueError(f\"缺少欄位：{missing}；請確認表頭為 {expected}\")\n",
        "    # 轉型\n",
        "    df[\"date\"] = pd.to_datetime(df[\"date\"], errors=\"coerce\")\n",
        "    df[\"amount\"] = pd.to_numeric(df[\"amount\"], errors=\"coerce\").fillna(0.0)\n",
        "    df[\"category\"] = df[\"category\"].astype(str).str.strip()\n",
        "    df[\"item\"] = df[\"item\"].astype(str).str.strip()\n",
        "    df[\"payer\"] = df[\"payer\"].astype(str).str.strip()\n",
        "    df = df.dropna(subset=[\"date\"])\n",
        "    df = df[df[\"amount\"] > 0]\n",
        "    return ws_data, df\n",
        "\n",
        "def _settlement_plan(net_series):\n",
        "    creditors = [(p, amt) for p, amt in net_series.items() if amt > 1e-8]\n",
        "    debtors   = [(p, -amt) for p, amt in net_series.items() if amt < -1e-8]\n",
        "    creditors.sort(key=lambda x: x[1], reverse=True)\n",
        "    debtors.sort(key=lambda x: x[1], reverse=True)\n",
        "    plans = []; i=j=0\n",
        "    while i < len(debtors) and j < len(creditors):\n",
        "        d_name, d_amt = debtors[i]; c_name, c_amt = creditors[j]\n",
        "        pay = min(d_amt, c_amt)\n",
        "        plans.append({\"from\": d_name, \"to\": c_name, \"amount\": round(float(pay), 2)})\n",
        "        d_amt -= pay; c_amt -= pay\n",
        "        if d_amt <= 1e-8: i += 1\n",
        "        else: debtors[i] = (d_name, d_amt)\n",
        "        if c_amt <= 1e-8: j += 1\n",
        "        else: creditors[j] = (c_name, c_amt)\n",
        "    return pd.DataFrame(plans)\n",
        "\n",
        "def _weekly_window(tz_name=\"Asia/Taipei\"):\n",
        "    tz_taipei = pytz.timezone(tz_name)\n",
        "    now = datetime.now(tz_taipei)\n",
        "    weekday = now.weekday()                 # Monday=0\n",
        "    week_start = (now - timedelta(days=weekday)).replace(hour=0, minute=0, second=0, microsecond=0)\n",
        "    week_end   = week_start + timedelta(days=6, hours=23, minutes=59, seconds=59)\n",
        "    # 轉為 tz-naive，與 df['date'] 一致\n",
        "    return pd.Timestamp(week_start.replace(tzinfo=None)), pd.Timestamp(week_end.replace(tzinfo=None)), now\n",
        "\n",
        "def _write_summary(sh, summary_name, meta, by_category, payer_out, settle_df, tips):\n",
        "    try:\n",
        "        ws_sum = sh.worksheet(summary_name)\n",
        "    except gspread.exceptions.WorksheetNotFound:\n",
        "        ws_sum = sh.add_worksheet(title=summary_name, rows=200, cols=20)\n",
        "    ws_sum.clear()\n",
        "\n",
        "    # 基本摘要\n",
        "    ws_sum.update(\"A1\", [[\"項目\",\"內容\"]])\n",
        "    ws_sum.update(f\"A2:B{1+len(meta)+1}\", meta)\n",
        "\n",
        "    # 分類小計（A10 起）\n",
        "    start_row_cat = 10\n",
        "    ws_sum.update(f\"A{start_row_cat}\", [[\"分類\",\"小計\"]])\n",
        "    if not by_category.empty:\n",
        "        ws_sum.update(f\"A{start_row_cat+1}:B{start_row_cat+len(by_category)}\", by_category.values.tolist())\n",
        "\n",
        "    # 付款人小計 + 淨額（D10 起）\n",
        "    ws_sum.update(f\"D{start_row_cat}\", [payer_out.columns.tolist()])\n",
        "    if not payer_out.empty:\n",
        "        ws_sum.update(f\"D{start_row_cat+1}:F{start_row_cat+len(payer_out)}\", payer_out.values.tolist())\n",
        "\n",
        "    # 清算建議\n",
        "    start_row_settle = start_row_cat + max(len(by_category), len(payer_out)) + 4\n",
        "    ws_sum.update(f\"A{start_row_settle}\", [[\"清算建議（from → to, amount）\"]])\n",
        "    if not settle_df.empty:\n",
        "        ws_sum.update(f\"A{start_row_settle+1}\", [[\"付款人(付出)\",\"收款人(收款)\",\"金額\"]])\n",
        "        ws_sum.update(\n",
        "            f\"A{start_row_settle+2}:C{start_row_settle+1+len(settle_df)}\",\n",
        "            settle_df.rename(columns={\"from\":\"付款人(付出)\",\"to\":\"收款人(收款)\",\"amount\":\"金額\"}).values.tolist()\n",
        "        )\n",
        "    else:\n",
        "        ws_sum.update(f\"A{start_row_settle+1}\", [[\"所有人已平衡，無需清算\"]])\n",
        "\n",
        "    # 本週建議\n",
        "    tip_row = start_row_settle + (len(settle_df) + 3 if not settle_df.empty else 3)\n",
        "    ws_sum.update(f\"A{tip_row}\", [[\"本週花錢習慣與建議\"]])\n",
        "    if tips:\n",
        "        ws_sum.update(f\"A{tip_row+1}:A{tip_row+len(tips)}\", [[t] for t in tips])\n",
        "\n",
        "def run(sheet_url, data_sheet_name, summary_sheet_name, tz_name):\n",
        "    # 開啟與讀取\n",
        "    sh = _open_sheet(sheet_url)\n",
        "    ws_data, df = _read_table(sh, data_sheet_name)\n",
        "\n",
        "    # 基本統計\n",
        "    total_spent = float(df[\"amount\"].sum())\n",
        "    by_category = df.groupby(\"category\", dropna=False)[\"amount\"].sum().sort_values(ascending=False).reset_index()\n",
        "    by_payer = df.groupby(\"payer\", dropna=False)[\"amount\"].sum().sort_values(ascending=False).reset_index()\n",
        "\n",
        "    # AA 與淨額\n",
        "    payers = sorted(df[\"payer\"].dropna().unique().tolist())\n",
        "    n = max(len(payers), 1)\n",
        "    equal_share = total_spent / n\n",
        "    net = by_payer.set_index(\"payer\")[\"amount\"] - equal_share\n",
        "    net = net.reindex(payers).fillna(-equal_share).round(2)\n",
        "    settle_df = _settlement_plan(net)\n",
        "\n",
        "    # 本週分析\n",
        "    week_start_naive, week_end_naive, now = _weekly_window(tz_name)\n",
        "    df_week = df[(df[\"date\"] >= week_start_naive) & (df[\"date\"] <= week_end_naive)]\n",
        "    tips = []\n",
        "    if df_week.empty:\n",
        "        tips = [\"本週尚無消費紀錄。\"]\n",
        "    else:\n",
        "        cat_sum = df_week.groupby(\"category\")[\"amount\"].sum().sort_values(ascending=False)\n",
        "        total = cat_sum.sum()\n",
        "        if total > 0:\n",
        "            top_cat = cat_sum.index[0]\n",
        "            ratio = float(cat_sum.iloc[0] / total)\n",
        "            if ratio > 0.4:\n",
        "                tips.append(f\"「{top_cat}」占本週總支出 {ratio:.0%}，支出集中，建議檢視是否可壓低。\")\n",
        "            day_sum = df_week.groupby(df_week[\"date\"].dt.date)[\"amount\"].sum().sort_values(ascending=False)\n",
        "            if float(day_sum.iloc[0] / total) > 0.5:\n",
        "                tips.append(\"單日支出占比偏高，留意集中消費的風險。\")\n",
        "        if not tips:\n",
        "            tips = [\"本週支出分布尚稱均衡，非必要支出可設定上限持續觀察。\"]\n",
        "\n",
        "    # 準備寫回 Summary\n",
        "    meta = [\n",
        "        [\"Expense Summary (自動產生)\", \"\"],\n",
        "        [\"產生時間\", now.strftime(\"%Y-%m-%d %H:%M:%S %Z\")],\n",
        "        [\"資料分頁\", ws_data.title],\n",
        "        [\"期間（本週）\", f\"{week_start_naive.strftime('%Y-%m-%d')} ~ {week_end_naive.strftime('%Y-%m-%d')}\"],\n",
        "        [\"總支出 (All)\", total_spent],\n",
        "        [\"人數 (AA)\", n],\n",
        "        [\"每人應分擔 (AA)\", round(equal_share, 2)],\n",
        "        [\"\", \"\"],\n",
        "    ]\n",
        "\n",
        "    # 組出付款人表（含淨額）做為 UI 預覽\n",
        "    payer_table = by_payer.set_index(\"payer\").copy()\n",
        "    payer_table[\"淨額(>0代表代墊,<0代表應付)\"] = net\n",
        "    payer_out = payer_table.reset_index().rename(columns={\"payer\":\"付款人\",\"amount\":\"小計\"})\n",
        "\n",
        "    # 寫回 Google Sheet\n",
        "    _write_summary(sh, summary_sheet_name, meta, by_category, payer_out, settle_df, tips)\n",
        "\n",
        "    # 回傳給 UI 預覽\n",
        "    msg = \"✅ 已完成計算並寫入 Summary 分頁。\"\n",
        "    return (\n",
        "        msg,\n",
        "        by_category,         # DataFrame\n",
        "        payer_out,           # DataFrame\n",
        "        settle_df,           # DataFrame\n",
        "        \"\\n\".join(tips)      # 建議文字\n",
        "    )\n",
        "\n",
        "# ====== Gradio 介面 ======\n",
        "with gr.Blocks(fill_height=True) as demo:\n",
        "    gr.Markdown(\"## 日常支出速算與分攤（Google Sheets）\")\n",
        "    with gr.Row():\n",
        "        sheet_url = gr.Textbox(label=\"Google Sheet 連結\", placeholder=\"https://docs.google.com/spreadsheets/d/1Fv4pzfY7tP_WQImaCdycaJO2XLA5tZ3MJyLfBgropQE/edit?gid=0#gid=0\")\n",
        "    with gr.Row():\n",
        "        data_sheet_name = gr.Textbox(label=\"資料分頁名稱\", value=\"消費紀錄\")\n",
        "        summary_sheet_name = gr.Textbox(label=\"輸出分頁名稱\", value=\"Summary\")\n",
        "        tz_name = gr.Dropdown(label=\"時區\", choices=[\"Asia/Taipei\",\"UTC\"], value=\"Asia/Taipei\")\n",
        "    run_btn = gr.Button(\"執行\")\n",
        "    msg_out = gr.Textbox(label=\"狀態\", interactive=False)\n",
        "    cat_df = gr.Dataframe(label=\"分類小計\", interactive=False)\n",
        "    payer_df = gr.Dataframe(label=\"付款人小計與淨額\", interactive=False)\n",
        "    settle_df_out = gr.Dataframe(label=\"清算建議\", interactive=False)\n",
        "    tips_out = gr.Textbox(label=\"本週花錢習慣與建議\", lines=6, interactive=False)\n",
        "\n",
        "    run_btn.click(\n",
        "        fn=run,\n",
        "        inputs=[sheet_url, data_sheet_name, summary_sheet_name, tz_name],\n",
        "        outputs=[msg_out, cat_df, payer_df, settle_df_out, tips_out],\n",
        "    )\n",
        "\n",
        "demo.launch()\n"
      ],
      "metadata": {
        "colab": {
          "base_uri": "https://localhost:8080/",
          "height": 645
        },
        "id": "SJ5FZafMzDQH",
        "outputId": "38cab32f-a4a5-4a86-852e-4a347b946227"
      },
      "execution_count": 9,
      "outputs": [
        {
          "output_type": "stream",
          "name": "stdout",
          "text": [
            "It looks like you are running Gradio on a hosted Jupyter notebook, which requires `share=True`. Automatically setting `share=True` (you can turn this off by setting `share=False` in `launch()` explicitly).\n",
            "\n",
            "Colab notebook detected. To show errors in colab notebook, set debug=True in launch()\n",
            "* Running on public URL: https://be587b80f33c4ff7ac.gradio.live\n",
            "\n",
            "This share link expires in 1 week. For free permanent hosting and GPU upgrades, run `gradio deploy` from the terminal in the working directory to deploy to Hugging Face Spaces (https://huggingface.co/spaces)\n"
          ]
        },
        {
          "output_type": "display_data",
          "data": {
            "text/plain": [
              "<IPython.core.display.HTML object>"
            ],
            "text/html": [
              "<div><iframe src=\"https://be587b80f33c4ff7ac.gradio.live\" width=\"100%\" height=\"500\" allow=\"autoplay; camera; microphone; clipboard-read; clipboard-write;\" frameborder=\"0\" allowfullscreen></iframe></div>"
            ]
          },
          "metadata": {}
        },
        {
          "output_type": "execute_result",
          "data": {
            "text/plain": []
          },
          "metadata": {},
          "execution_count": 9
        }
      ]
    }
  ]
}